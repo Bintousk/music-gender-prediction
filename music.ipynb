{
 "cells": [
  {
   "cell_type": "code",
   "execution_count": 10,
   "id": "ed32ae07",
   "metadata": {},
   "outputs": [
    {
     "data": {
      "text/plain": [
       "0.75"
      ]
     },
     "execution_count": 10,
     "metadata": {},
     "output_type": "execute_result"
    }
   ],
   "source": [
    "import pandas as pd\n",
    "from sklearn.tree import DecisionTreeClassifier\n",
    "from sklearn.model_selection import train_test_split\n",
    "from sklearn.metrics import accuracy_score\n",
    "import joblib \n",
    "#\n",
    "music_data = pd.read_csv('./archive/music.csv')\n",
    "# #create a new data set without the genre \n",
    "# \n",
    "X = music_data.drop(columns=['genre'])\n",
    "# \n",
    "Y = music_data['genre']\n",
    "# \n",
    "model = DecisionTreeClassifier()\n",
    "#  #wev test 20% of our data\n",
    "# # X_train , X_test, Y_train, Y_test =train_test_split(X, Y, test_size = 0.2)\n",
    "# # model.fit(X_train, Y_train)\n",
    "# \n",
    "model.fit(X, Y)\n",
    "# # predictions = model.predict(X_test)\n",
    "# # \n",
    "score = accuracy_score(Y_test, predictions)\n",
    "# # \n",
    "score\n",
    "# model = joblib.load('music-recommender.joblib')\n",
    "# predictions = model.predict([[21, 1]])\n",
    "# predictions"
   ]
  },
  {
   "cell_type": "code",
   "execution_count": 28,
   "id": "0ae8e636",
   "metadata": {},
   "outputs": [],
   "source": [
    "from sklearn import tree\n",
    "music_data = pd.read_csv('music.csv')\n",
    "\n",
    "X = music_data.drop(columns=['genre'])\n",
    "Y = music_data['genre']\n",
    "model = DecisionTreeClassifier()\n",
    "model.fit(X, Y)\n",
    "tree.export_graphviz(model , out_file ='music-recommender.dot', feature_names = ['age', 'gender'], class_names = sorted(Y.unique()), label='all', rounded = True, filled=True)"
   ]
  },
  {
   "cell_type": "code",
   "execution_count": null,
   "id": "0dafd4f3",
   "metadata": {},
   "outputs": [],
   "source": []
  }
 ],
 "metadata": {
  "kernelspec": {
   "display_name": "Python 3 (ipykernel)",
   "language": "python",
   "name": "python3"
  },
  "language_info": {
   "codemirror_mode": {
    "name": "ipython",
    "version": 3
   },
   "file_extension": ".py",
   "mimetype": "text/x-python",
   "name": "python",
   "nbconvert_exporter": "python",
   "pygments_lexer": "ipython3",
   "version": "3.7.13"
  }
 },
 "nbformat": 4,
 "nbformat_minor": 5
}
